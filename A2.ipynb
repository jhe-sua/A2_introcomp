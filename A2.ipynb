{
 "cells": [
  {
   "cell_type": "markdown",
   "id": "42ec6d12",
   "metadata": {},
   "source": [
    "# Código Auxiliar para a Segunda Avaliação."
   ]
  },
  {
   "cell_type": "code",
   "execution_count": 2,
   "id": "initial_id",
   "metadata": {
    "ExecuteTime": {
     "end_time": "2025-05-25T13:06:15.389999Z",
     "start_time": "2025-05-25T13:06:15.388364Z"
    },
    "collapsed": true
   },
   "outputs": [],
   "source": [
    "import pandas as pd\n",
    "import sqlite3"
   ]
  },
  {
   "cell_type": "markdown",
   "id": "06ad5f72",
   "metadata": {},
   "source": [
    "As funções definidas abaixo, devem ser usada para acessar o banco de dados `bilheteria.db` e retornar os dados necessários para a resolução dos exercícios.\n"
   ]
  },
  {
   "cell_type": "code",
   "execution_count": 11,
   "id": "c6ad3381aaca49bd",
   "metadata": {
    "ExecuteTime": {
     "end_time": "2025-05-25T13:22:28.294052Z",
     "start_time": "2025-05-25T13:22:28.292064Z"
    }
   },
   "outputs": [],
   "source": [
    "def carrega_tabela(database, tabela):\n",
    "    '''\n",
    "    Carrega uma tabela de um banco de dados \n",
    "    SQLite em um DataFrame do Pandas.\n",
    "    Parâmetros:\n",
    "    database: str - Caminho para o arquivo do banco de dados SQLite.\n",
    "    tabela: str - Nome da tabela a ser carregada.\n",
    "    '''\n",
    "    with sqlite3.connect(database) as conn:\n",
    "        query = f\"SELECT * FROM {tabela}\"\n",
    "        df = pd.read_sql_query(query, conn)\n",
    "    return df"
   ]
  },
  {
   "cell_type": "code",
   "execution_count": 12,
   "id": "edb38762aa82795a",
   "metadata": {
    "ExecuteTime": {
     "end_time": "2025-05-25T13:22:29.175648Z",
     "start_time": "2025-05-25T13:22:29.173393Z"
    }
   },
   "outputs": [],
   "source": [
    "def lista_tabelas(db_filename):\n",
    "    '''\n",
    "    Lista todas as tabelas em um banco de dados SQLite.\n",
    "    Parâmetros:\n",
    "    db_filename: str - Caminho para o arquivo do banco de dados SQLite.\n",
    "    Retorna:\n",
    "    DataFrame com os nomes das tabelas e suas contagens de linhas.\n",
    "    '''\n",
    "    # Connect to the SQLite database\n",
    "    # conn = sqlite3.connect(db_filename)\n",
    "    with sqlite3.connect(db_filename) as conn:\n",
    "        cursor = conn.cursor()\n",
    "        cursor.execute(\"SELECT name FROM sqlite_master WHERE type='table';\")\n",
    "        tables = cursor.fetchall()\n",
    "\n",
    "        table_row_counts = []\n",
    "        for table in tables:\n",
    "            table_name = table[0]\n",
    "            query = f\"SELECT COUNT(*) FROM {table_name};\"\n",
    "            cursor.execute(query)\n",
    "            row_count = cursor.fetchone()[0]\n",
    "            table_row_counts.append({\"Table\": table_name, \"Row_Count\": row_count})\n",
    "\n",
    "        return pd.DataFrame(table_row_counts)"
   ]
  },
  {
   "cell_type": "markdown",
   "id": "5c117744",
   "metadata": {},
   "source": [
    "## Exemplos de uso das funções"
   ]
  },
  {
   "cell_type": "code",
   "execution_count": 13,
   "id": "4f9bdd9378611814",
   "metadata": {
    "ExecuteTime": {
     "end_time": "2025-05-25T13:22:30.217182Z",
     "start_time": "2025-05-25T13:22:30.174108Z"
    }
   },
   "outputs": [
    {
     "data": {
      "text/html": [
       "<div>\n",
       "<style scoped>\n",
       "    .dataframe tbody tr th:only-of-type {\n",
       "        vertical-align: middle;\n",
       "    }\n",
       "\n",
       "    .dataframe tbody tr th {\n",
       "        vertical-align: top;\n",
       "    }\n",
       "\n",
       "    .dataframe thead th {\n",
       "        text-align: right;\n",
       "    }\n",
       "</style>\n",
       "<table border=\"1\" class=\"dataframe\">\n",
       "  <thead>\n",
       "    <tr style=\"text-align: right;\">\n",
       "      <th></th>\n",
       "      <th>Table</th>\n",
       "      <th>Row_Count</th>\n",
       "    </tr>\n",
       "  </thead>\n",
       "  <tbody>\n",
       "    <tr>\n",
       "      <th>0</th>\n",
       "      <td>distribuidora</td>\n",
       "      <td>72</td>\n",
       "    </tr>\n",
       "    <tr>\n",
       "      <th>1</th>\n",
       "      <td>filme</td>\n",
       "      <td>515</td>\n",
       "    </tr>\n",
       "    <tr>\n",
       "      <th>2</th>\n",
       "      <td>grupo_exibidor</td>\n",
       "      <td>64</td>\n",
       "    </tr>\n",
       "    <tr>\n",
       "      <th>3</th>\n",
       "      <td>exibidor</td>\n",
       "      <td>180</td>\n",
       "    </tr>\n",
       "    <tr>\n",
       "      <th>4</th>\n",
       "      <td>complexo</td>\n",
       "      <td>683</td>\n",
       "    </tr>\n",
       "    <tr>\n",
       "      <th>5</th>\n",
       "      <td>sala</td>\n",
       "      <td>3231</td>\n",
       "    </tr>\n",
       "    <tr>\n",
       "      <th>6</th>\n",
       "      <td>sessao</td>\n",
       "      <td>1748363</td>\n",
       "    </tr>\n",
       "  </tbody>\n",
       "</table>\n",
       "</div>"
      ],
      "text/plain": [
       "            Table  Row_Count\n",
       "0   distribuidora         72\n",
       "1           filme        515\n",
       "2  grupo_exibidor         64\n",
       "3        exibidor        180\n",
       "4        complexo        683\n",
       "5            sala       3231\n",
       "6          sessao    1748363"
      ]
     },
     "execution_count": 13,
     "metadata": {},
     "output_type": "execute_result"
    }
   ],
   "source": [
    "lista_tabelas('bilheteria.db')"
   ]
  },
  {
   "cell_type": "code",
   "execution_count": 16,
   "id": "9361929e05204874",
   "metadata": {
    "ExecuteTime": {
     "end_time": "2025-05-25T13:25:09.843967Z",
     "start_time": "2025-05-25T13:25:07.824159Z"
    }
   },
   "outputs": [
    {
     "data": {
      "text/html": [
       "<div>\n",
       "<style scoped>\n",
       "    .dataframe tbody tr th:only-of-type {\n",
       "        vertical-align: middle;\n",
       "    }\n",
       "\n",
       "    .dataframe tbody tr th {\n",
       "        vertical-align: top;\n",
       "    }\n",
       "\n",
       "    .dataframe thead th {\n",
       "        text-align: right;\n",
       "    }\n",
       "</style>\n",
       "<table border=\"1\" class=\"dataframe\">\n",
       "  <thead>\n",
       "    <tr style=\"text-align: right;\">\n",
       "      <th></th>\n",
       "      <th>id</th>\n",
       "      <th>filme_id</th>\n",
       "      <th>sala_id</th>\n",
       "      <th>publico</th>\n",
       "      <th>data_exibicao</th>\n",
       "    </tr>\n",
       "  </thead>\n",
       "  <tbody>\n",
       "    <tr>\n",
       "      <th>0</th>\n",
       "      <td>1</td>\n",
       "      <td>253</td>\n",
       "      <td>5004897</td>\n",
       "      <td>8</td>\n",
       "      <td>2023-01-01</td>\n",
       "    </tr>\n",
       "    <tr>\n",
       "      <th>1</th>\n",
       "      <td>2</td>\n",
       "      <td>253</td>\n",
       "      <td>5001565</td>\n",
       "      <td>15</td>\n",
       "      <td>2023-01-01</td>\n",
       "    </tr>\n",
       "    <tr>\n",
       "      <th>2</th>\n",
       "      <td>3</td>\n",
       "      <td>253</td>\n",
       "      <td>5001566</td>\n",
       "      <td>14</td>\n",
       "      <td>2023-01-01</td>\n",
       "    </tr>\n",
       "    <tr>\n",
       "      <th>3</th>\n",
       "      <td>4</td>\n",
       "      <td>253</td>\n",
       "      <td>5003464</td>\n",
       "      <td>23</td>\n",
       "      <td>2023-01-01</td>\n",
       "    </tr>\n",
       "    <tr>\n",
       "      <th>4</th>\n",
       "      <td>5</td>\n",
       "      <td>253</td>\n",
       "      <td>5001137</td>\n",
       "      <td>37</td>\n",
       "      <td>2023-01-01</td>\n",
       "    </tr>\n",
       "    <tr>\n",
       "      <th>...</th>\n",
       "      <td>...</td>\n",
       "      <td>...</td>\n",
       "      <td>...</td>\n",
       "      <td>...</td>\n",
       "      <td>...</td>\n",
       "    </tr>\n",
       "    <tr>\n",
       "      <th>1748358</th>\n",
       "      <td>1748359</td>\n",
       "      <td>405</td>\n",
       "      <td>5000331</td>\n",
       "      <td>5</td>\n",
       "      <td>2023-12-31</td>\n",
       "    </tr>\n",
       "    <tr>\n",
       "      <th>1748359</th>\n",
       "      <td>1748360</td>\n",
       "      <td>405</td>\n",
       "      <td>5000333</td>\n",
       "      <td>11</td>\n",
       "      <td>2023-12-31</td>\n",
       "    </tr>\n",
       "    <tr>\n",
       "      <th>1748360</th>\n",
       "      <td>1748361</td>\n",
       "      <td>405</td>\n",
       "      <td>5003637</td>\n",
       "      <td>32</td>\n",
       "      <td>2023-12-31</td>\n",
       "    </tr>\n",
       "    <tr>\n",
       "      <th>1748361</th>\n",
       "      <td>1748362</td>\n",
       "      <td>157</td>\n",
       "      <td>5001209</td>\n",
       "      <td>124</td>\n",
       "      <td>2023-12-31</td>\n",
       "    </tr>\n",
       "    <tr>\n",
       "      <th>1748362</th>\n",
       "      <td>1748363</td>\n",
       "      <td>157</td>\n",
       "      <td>5001073</td>\n",
       "      <td>22</td>\n",
       "      <td>2023-12-31</td>\n",
       "    </tr>\n",
       "  </tbody>\n",
       "</table>\n",
       "<p>1748363 rows × 5 columns</p>\n",
       "</div>"
      ],
      "text/plain": [
       "              id  filme_id  sala_id  publico data_exibicao\n",
       "0              1       253  5004897        8    2023-01-01\n",
       "1              2       253  5001565       15    2023-01-01\n",
       "2              3       253  5001566       14    2023-01-01\n",
       "3              4       253  5003464       23    2023-01-01\n",
       "4              5       253  5001137       37    2023-01-01\n",
       "...          ...       ...      ...      ...           ...\n",
       "1748358  1748359       405  5000331        5    2023-12-31\n",
       "1748359  1748360       405  5000333       11    2023-12-31\n",
       "1748360  1748361       405  5003637       32    2023-12-31\n",
       "1748361  1748362       157  5001209      124    2023-12-31\n",
       "1748362  1748363       157  5001073       22    2023-12-31\n",
       "\n",
       "[1748363 rows x 5 columns]"
      ]
     },
     "execution_count": 16,
     "metadata": {},
     "output_type": "execute_result"
    }
   ],
   "source": [
    "sessao = carrega_tabela('bilheteria.db', 'sessao')\n",
    "sessao.data_exibicao = pd.to_datetime(sessao.data_exibicao, format='%d/%m/%Y')\n",
    "sessao\n"
   ]
  },
  {
   "cell_type": "code",
   "execution_count": null,
   "id": "add687cee56e114d",
   "metadata": {},
   "outputs": [],
   "source": []
  }
 ],
 "metadata": {
  "kernelspec": {
   "display_name": "Python 3",
   "language": "python",
   "name": "python3"
  },
  "language_info": {
   "codemirror_mode": {
    "name": "ipython",
    "version": 2
   },
   "file_extension": ".py",
   "mimetype": "text/x-python",
   "name": "python",
   "nbconvert_exporter": "python",
   "pygments_lexer": "ipython2",
   "version": "2.7.6"
  }
 },
 "nbformat": 4,
 "nbformat_minor": 5
}
