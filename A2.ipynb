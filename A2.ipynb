{
 "cells": [
  {
   "cell_type": "markdown",
   "id": "42ec6d12",
   "metadata": {},
   "source": [
    "# Código Auxiliar para a Segunda Avaliação."
   ]
  },
  {
   "cell_type": "code",
   "execution_count": null,
   "id": "initial_id",
   "metadata": {
    "ExecuteTime": {
     "end_time": "2025-05-25T13:06:15.389999Z",
     "start_time": "2025-05-25T13:06:15.388364Z"
    },
    "collapsed": true
   },
   "outputs": [],
   "source": [
    "import pandas as pd\n",
    "import sqlite3\n",
    "from collections import defaultdict"
   ]
  },
  {
   "cell_type": "markdown",
   "id": "06ad5f72",
   "metadata": {},
   "source": [
    "As funções definidas abaixo, devem ser usada para acessar o banco de dados `bilheteria.db` e retornar os dados necessários para a resolução dos exercícios.\n"
   ]
  },
  {
   "cell_type": "code",
   "execution_count": null,
   "id": "c6ad3381aaca49bd",
   "metadata": {
    "ExecuteTime": {
     "end_time": "2025-05-25T13:22:28.294052Z",
     "start_time": "2025-05-25T13:22:28.292064Z"
    }
   },
   "outputs": [],
   "source": [
    "def carrega_tabela(database, tabela):\n",
    "    '''\n",
    "    Carrega uma tabela de um banco de dados \n",
    "    SQLite em um DataFrame do Pandas.\n",
    "    Parâmetros:\n",
    "    database: str - Caminho para o arquivo do banco de dados SQLite.\n",
    "    tabela: str - Nome da tabela a ser carregada.\n",
    "    '''\n",
    "    with sqlite3.connect(database) as conn:\n",
    "        query = f\"SELECT * FROM {tabela}\"\n",
    "        df = pd.read_sql_query(query, conn)\n",
    "    return df"
   ]
  },
  {
   "cell_type": "code",
   "execution_count": null,
   "id": "edb38762aa82795a",
   "metadata": {
    "ExecuteTime": {
     "end_time": "2025-05-25T13:22:29.175648Z",
     "start_time": "2025-05-25T13:22:29.173393Z"
    }
   },
   "outputs": [],
   "source": [
    "def lista_tabelas(db_filename):\n",
    "    '''\n",
    "    Lista todas as tabelas em um banco de dados SQLite.\n",
    "    Parâmetros:\n",
    "    db_filename: str - Caminho para o arquivo do banco de dados SQLite.\n",
    "    Retorna:\n",
    "    DataFrame com os nomes das tabelas e suas contagens de linhas.\n",
    "    '''\n",
    "    # Connect to the SQLite database\n",
    "    # conn = sqlite3.connect(db_filename)\n",
    "    with sqlite3.connect(db_filename) as conn:\n",
    "        cursor = conn.cursor()\n",
    "        cursor.execute(\"SELECT name FROM sqlite_master WHERE type='table';\")\n",
    "        tables = cursor.fetchall()\n",
    "\n",
    "        table_row_counts = []\n",
    "        for table in tables:\n",
    "            table_name = table[0]\n",
    "            query = f\"SELECT COUNT(*) FROM {table_name};\"\n",
    "            cursor.execute(query)\n",
    "            row_count = cursor.fetchone()[0]\n",
    "            table_row_counts.append({\"Table\": table_name, \"Row_Count\": row_count})\n",
    "\n",
    "        return pd.DataFrame(table_row_counts)"
   ]
  },
  {
   "cell_type": "markdown",
   "id": "5c117744",
   "metadata": {},
   "source": [
    "## Exemplos de uso das funções"
   ]
  },
  {
   "cell_type": "code",
   "execution_count": null,
   "id": "4f9bdd9378611814",
   "metadata": {
    "ExecuteTime": {
     "end_time": "2025-05-25T13:22:30.217182Z",
     "start_time": "2025-05-25T13:22:30.174108Z"
    }
   },
   "outputs": [],
   "source": [
    "lista_tabelas('bilheteria.db')"
   ]
  },
  {
   "cell_type": "markdown",
   "id": "bfeee545",
   "metadata": {},
   "source": [
    "# Utilice a celula abaixo para visualizar os dados\n",
    "\n",
    "comente e descomente as tabelas que voce quer visualizar"
   ]
  },
  {
   "cell_type": "code",
   "execution_count": null,
   "id": "9361929e05204874",
   "metadata": {
    "ExecuteTime": {
     "end_time": "2025-05-25T13:25:09.843967Z",
     "start_time": "2025-05-25T13:25:07.824159Z"
    }
   },
   "outputs": [],
   "source": [
    "# distribuidora = carrega_tabela(\"bilheteria.db\", \"distribuidora\")\n",
    "# filme = carrega_tabela(\"bilheteria.db\", \"filme\")\n",
    "# grupo_exibidor = carrega_tabela(\"bilheteria.db\", \"grupo_exibidor\")\n",
    "# exibidor = carrega_tabela(\"bilheteria.db\", \"exibidor\")\n",
    "# complexo = carrega_tabela(\"bilheteria.db\", \"complexo\")\n",
    "# sala = carrega_tabela(\"bilheteria.db\", \"sala\")\n",
    "# sessao = carrega_tabela('bilheteria.db', 'sessao')\n",
    "\n",
    "#sessao.data_exibicao = pd.to_datetime(sessao.data_exibicao, format='%d/%m/%Y')\n",
    "\n",
    "# print(distribuidora)\n",
    "# print(filme)\n",
    "# print(grupo_exibidor)\n",
    "# print(exibidor)\n",
    "# print(complexo)\n",
    "# print(sala)\n",
    "# print(sessao)\n"
   ]
  },
  {
   "cell_type": "markdown",
   "id": "add687cee56e114d",
   "metadata": {},
   "source": [
    "# Questao 1\n",
    "1. Qual o total de bilheteria de todos os filmes, ou seja, o público que foi aos\n",
    "filmes listados?"
   ]
  },
  {
   "cell_type": "code",
   "execution_count": null,
   "id": "0ec7760d",
   "metadata": {},
   "outputs": [],
   "source": [
    "def questao_1(database: str):\n",
    "    sessao = carrega_tabela(database, \"sessao\")\n",
    "    total_bilheteria_dataframe = sessao.publico\n",
    "    total_bilheteria = sum(total_bilheteria_dataframe)\n",
    "    print(f\"O total de bilheteria dos filmes listados foi: {total_bilheteria}\")\n",
    "    return total_bilheteria\n",
    "\n",
    "questao_1(\"bilheteria.db\")"
   ]
  },
  {
   "cell_type": "markdown",
   "id": "61980803",
   "metadata": {},
   "source": [
    "# Questao 2\n",
    "2. Qual o filme de maior bilheteria em 2023, por país de origem?"
   ]
  },
  {
   "cell_type": "code",
   "execution_count": null,
   "id": "85cdeed6",
   "metadata": {},
   "outputs": [],
   "source": [
    "def questao_2(database: str):\n",
    "    #carregamos as tabelas necessarias com as funcoes\n",
    "    filme = carrega_tabela(database, \"filme\") \n",
    "    sessao = carrega_tabela(database, \"sessao\")\n",
    "\n",
    "    #a partir da tabela filme, seleccionamos as colunas id, titulo_original e pais_origem\n",
    "    id_titulo_pais = filme[\n",
    "        [\n",
    "            \"id\",\n",
    "            \"titulo_original\",\n",
    "            \"pais_origem\"\n",
    "        ]\n",
    "    ]\n",
    "    \n",
    "    #a partir da tabela sessao, selecionamos as colunas filme_id e publico\n",
    "    filme_id_publico = sessao[\n",
    "        [\n",
    "            \"filme_id\",\n",
    "            \"publico\"\n",
    "        ]\n",
    "    ]\n",
    "\n",
    "    #criamos um diccionarios\n",
    "    bilheteria_de_cada_filme_por_id = defaultdict(int)    #chave: id de cada filme, valor: total de bilheteria \n",
    "    id_de_cada_filme_por_pais = defaultdict(list)         #chave: pais, valor: lista com os id's de cada filme desse pais\n",
    "    nome_de_cada_filme_por_id = defaultdict(str)          #chave: id de cada filme, valor: nome de cada filme\n",
    "    filme_de_maior_bilheteria_por_pais = defaultdict(str) #chave: pais, valor: filme com maior bilheteria desse pais\n",
    "\n",
    "    #colocamos cada pais com seus filmes\n",
    "    #colocamos cada filme_id com seu filme\n",
    "    for index in id_titulo_pais.itertuples(index= False):\n",
    "        filme_id = index.id\n",
    "        titulo = index.titulo_original\n",
    "        pais = index.pais_origem\n",
    "        id_de_cada_filme_por_pais[pais].append(filme_id)\n",
    "        nome_de_cada_filme_por_id[filme_id] = titulo\n",
    "    \n",
    "    #colocamos cada filme_id com seu publico total\n",
    "    for index in filme_id_publico.itertuples(index=False):\n",
    "        filme_id = index.filme_id\n",
    "        publico = index.publico\n",
    "        bilheteria_de_cada_filme_por_id[filme_id] += publico\n",
    "\n",
    "    #colocamos cada pais com seu filme de maior bilheteria\n",
    "    for cada_pais in id_de_cada_filme_por_pais.keys():\n",
    "        bilheteria = 0\n",
    "        filme = \"\"\n",
    "        \n",
    "        for cada_filme_id in id_de_cada_filme_por_pais[cada_pais]:\n",
    "            if bilheteria_de_cada_filme_por_id[cada_filme_id] > bilheteria:\n",
    "                bilheteria = bilheteria_de_cada_filme_por_id[cada_filme_id]\n",
    "                filme = nome_de_cada_filme_por_id[cada_filme_id]\n",
    "\n",
    "        filme_de_maior_bilheteria_por_pais[cada_pais] = filme\n",
    "\n",
    "    print(filme_de_maior_bilheteria_por_pais)\n",
    "    return dict(filme_de_maior_bilheteria_por_pais)\n",
    "\n",
    "questao_2(\"bilheteria.db\")"
   ]
  },
  {
   "cell_type": "markdown",
   "id": "6b709da3",
   "metadata": {},
   "source": [
    "# Questao 3\n",
    "3. Crie um dataframe com as 100 cidades com maior bilheteria em 2023,\n",
    "ordenadas de forma decrescente de bilheteria."
   ]
  },
  {
   "cell_type": "code",
   "execution_count": null,
   "id": "b3e6b225",
   "metadata": {},
   "outputs": [],
   "source": []
  }
 ],
 "metadata": {
  "kernelspec": {
   "display_name": ".venv",
   "language": "python",
   "name": "python3"
  },
  "language_info": {
   "codemirror_mode": {
    "name": "ipython",
    "version": 3
   },
   "file_extension": ".py",
   "mimetype": "text/x-python",
   "name": "python",
   "nbconvert_exporter": "python",
   "pygments_lexer": "ipython3",
   "version": "3.13.3"
  }
 },
 "nbformat": 4,
 "nbformat_minor": 5
}
