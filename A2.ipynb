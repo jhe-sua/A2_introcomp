{
 "cells": [
  {
   "cell_type": "markdown",
   "id": "42ec6d12",
   "metadata": {},
   "source": [
    "# Código Auxiliar para a Segunda Avaliação."
   ]
  },
  {
   "cell_type": "code",
   "execution_count": 1,
   "id": "initial_id",
   "metadata": {
    "ExecuteTime": {
     "end_time": "2025-05-25T13:06:15.389999Z",
     "start_time": "2025-05-25T13:06:15.388364Z"
    },
    "collapsed": true
   },
   "outputs": [],
   "source": [
    "import pandas as pd\n",
    "import sqlite3\n",
    "from collections import defaultdict"
   ]
  },
  {
   "cell_type": "markdown",
   "id": "06ad5f72",
   "metadata": {},
   "source": [
    "As funções definidas abaixo, devem ser usada para acessar o banco de dados `bilheteria.db` e retornar os dados necessários para a resolução dos exercícios.\n"
   ]
  },
  {
   "cell_type": "code",
   "execution_count": 2,
   "id": "c6ad3381aaca49bd",
   "metadata": {
    "ExecuteTime": {
     "end_time": "2025-05-25T13:22:28.294052Z",
     "start_time": "2025-05-25T13:22:28.292064Z"
    }
   },
   "outputs": [],
   "source": [
    "def carrega_tabela(database, tabela):\n",
    "    '''\n",
    "    Carrega uma tabela de um banco de dados \n",
    "    SQLite em um DataFrame do Pandas.\n",
    "    Parâmetros:\n",
    "    database: str - Caminho para o arquivo do banco de dados SQLite.\n",
    "    tabela: str - Nome da tabela a ser carregada.\n",
    "    '''\n",
    "    with sqlite3.connect(database) as conn:\n",
    "        query = f\"SELECT * FROM {tabela}\"\n",
    "        df = pd.read_sql_query(query, conn)\n",
    "    return df"
   ]
  },
  {
   "cell_type": "code",
   "execution_count": 3,
   "id": "edb38762aa82795a",
   "metadata": {
    "ExecuteTime": {
     "end_time": "2025-05-25T13:22:29.175648Z",
     "start_time": "2025-05-25T13:22:29.173393Z"
    }
   },
   "outputs": [],
   "source": [
    "def lista_tabelas(db_filename):\n",
    "    '''\n",
    "    Lista todas as tabelas em um banco de dados SQLite.\n",
    "    Parâmetros:\n",
    "    db_filename: str - Caminho para o arquivo do banco de dados SQLite.\n",
    "    Retorna:\n",
    "    DataFrame com os nomes das tabelas e suas contagens de linhas.\n",
    "    '''\n",
    "    # Connect to the SQLite database\n",
    "    # conn = sqlite3.connect(db_filename)\n",
    "    with sqlite3.connect(db_filename) as conn:\n",
    "        cursor = conn.cursor()\n",
    "        cursor.execute(\"SELECT name FROM sqlite_master WHERE type='table';\")\n",
    "        tables = cursor.fetchall()\n",
    "\n",
    "        table_row_counts = []\n",
    "        for table in tables:\n",
    "            table_name = table[0]\n",
    "            query = f\"SELECT COUNT(*) FROM {table_name};\"\n",
    "            cursor.execute(query)\n",
    "            row_count = cursor.fetchone()[0]\n",
    "            table_row_counts.append({\"Table\": table_name, \"Row_Count\": row_count})\n",
    "\n",
    "        return pd.DataFrame(table_row_counts)"
   ]
  },
  {
   "cell_type": "markdown",
   "id": "5c117744",
   "metadata": {},
   "source": [
    "## Exemplos de uso das funções"
   ]
  },
  {
   "cell_type": "code",
   "execution_count": null,
   "id": "4f9bdd9378611814",
   "metadata": {
    "ExecuteTime": {
     "end_time": "2025-05-25T13:22:30.217182Z",
     "start_time": "2025-05-25T13:22:30.174108Z"
    }
   },
   "outputs": [],
   "source": [
    "lista_tabelas('bilheteria.db')"
   ]
  },
  {
   "cell_type": "markdown",
   "id": "bfeee545",
   "metadata": {},
   "source": [
    "# Utilice a celula abaixo para visualizar os dados\n",
    "\n",
    "comente e descomente as tabelas que voce quer visualizar"
   ]
  },
  {
   "cell_type": "code",
   "execution_count": 7,
   "id": "9361929e05204874",
   "metadata": {
    "ExecuteTime": {
     "end_time": "2025-05-25T13:25:09.843967Z",
     "start_time": "2025-05-25T13:25:07.824159Z"
    }
   },
   "outputs": [
    {
     "name": "stdout",
     "output_type": "stream",
     "text": [
      "        id            municipio  UF  from_exibidor\n",
      "0      438       BELO HORIZONTE  MG            437\n",
      "1      895            SÃO PAULO  SP           1843\n",
      "2      896          SANTO ANDRÉ  SP           1843\n",
      "3      897            SÃO PAULO  SP           1843\n",
      "4      898            SÃO PAULO  SP           1843\n",
      "..     ...                  ...  ..            ...\n",
      "678  55214        VÁRZEA GRANDE  MT           2379\n",
      "679  55217  VALPARAÍSO DE GOIÁS  GO           2379\n",
      "680  55428  SÃO JOSÉ DOS CAMPOS  SP          15263\n",
      "681  55466             SÃO JOSÉ  SC           5935\n",
      "682  55563       JOÃO MONLEVADE  MG          55562\n",
      "\n",
      "[683 rows x 4 columns]\n",
      "           id                                         nome  from_complexo\n",
      "0     5000056  KINOPLEX IGUAÇU TOP SALA 01 - KINOEVOLUTION           2387\n",
      "1     5000057                  KINOPLEX IGUAÇU TOP SALA 02           2387\n",
      "2     5000058                  KINOPLEX IGUAÇU TOP SALA 03           2387\n",
      "3     5000061                   SALA KINOPLEX MADUREIRA 01           2389\n",
      "4     5000062                   SALA KINOPLEX MADUREIRA 02           2389\n",
      "...       ...                                          ...            ...\n",
      "3226  5007071                         MULTICINE SÃO JOSÉ 2          55466\n",
      "3227  5007072                         MULTICINE SÃO JOSÉ 3          55466\n",
      "3228  5007073                         MULTICINE SÃO JOSÉ 4          55466\n",
      "3229  5007075                        CINE RITZ MONLEVADE 1          55563\n",
      "3230  5007076                        CINE RITZ MONLEVADE 2          55563\n",
      "\n",
      "[3231 rows x 3 columns]\n",
      "              id  filme_id  sala_id  publico data_exibicao\n",
      "0              1       253  5004897        8    01/01/2023\n",
      "1              2       253  5001565       15    01/01/2023\n",
      "2              3       253  5001566       14    01/01/2023\n",
      "3              4       253  5003464       23    01/01/2023\n",
      "4              5       253  5001137       37    01/01/2023\n",
      "...          ...       ...      ...      ...           ...\n",
      "1748358  1748359       405  5000331        5    31/12/2023\n",
      "1748359  1748360       405  5000333       11    31/12/2023\n",
      "1748360  1748361       405  5003637       32    31/12/2023\n",
      "1748361  1748362       157  5001209      124    31/12/2023\n",
      "1748362  1748363       157  5001073       22    31/12/2023\n",
      "\n",
      "[1748363 rows x 5 columns]\n"
     ]
    }
   ],
   "source": [
    "# distribuidora = carrega_tabela(\"bilheteria.db\", \"distribuidora\")\n",
    "# filme = carrega_tabela(\"bilheteria.db\", \"filme\")\n",
    "# grupo_exibidor = carrega_tabela(\"bilheteria.db\", \"grupo_exibidor\")\n",
    "# exibidor = carrega_tabela(\"bilheteria.db\", \"exibidor\")\n",
    "# complexo = carrega_tabela(\"bilheteria.db\", \"complexo\")\n",
    "# sala = carrega_tabela(\"bilheteria.db\", \"sala\")\n",
    "# sessao = carrega_tabela('bilheteria.db', 'sessao')\n",
    "\n",
    "complexo = carrega_tabela(\"bilheteria.db\", \"complexo\")\n",
    "sala = carrega_tabela(\"bilheteria.db\", \"sala\")\n",
    "sessao = carrega_tabela('bilheteria.db', 'sessao')\n",
    "#sessao.data_exibicao = pd.to_datetime(sessao.data_exibicao, format='%d/%m/%Y')\n",
    "\n",
    "# print(distribuidora)\n",
    "# print(filme)\n",
    "# print(filme.columns)\n",
    "# print(grupo_exibidor)\n",
    "# print(exibidor)\n",
    "print(complexo)\n",
    "print(sala)\n",
    "print(sessao)\n"
   ]
  },
  {
   "cell_type": "markdown",
   "id": "add687cee56e114d",
   "metadata": {},
   "source": [
    "# Questao 1\n",
    "1. Qual o total de bilheteria de todos os filmes, ou seja, o público que foi aos\n",
    "filmes listados?"
   ]
  },
  {
   "cell_type": "code",
   "execution_count": null,
   "id": "0ec7760d",
   "metadata": {},
   "outputs": [],
   "source": [
    "def questao_1(database: str):\n",
    "    sessao = carrega_tabela(database, \"sessao\")\n",
    "    total_bilheteria_dataframe = sessao.publico\n",
    "    total_bilheteria = sum(total_bilheteria_dataframe)\n",
    "    print(f\"O total de bilheteria dos filmes listados foi: {total_bilheteria}\")\n",
    "    return total_bilheteria\n",
    "\n",
    "questao_1(\"bilheteria.db\")"
   ]
  },
  {
   "cell_type": "markdown",
   "id": "61980803",
   "metadata": {},
   "source": [
    "# Questao 2\n",
    "2. Qual o filme de maior bilheteria em 2023, por país de origem?"
   ]
  },
  {
   "cell_type": "code",
   "execution_count": null,
   "id": "85cdeed6",
   "metadata": {},
   "outputs": [],
   "source": [
    "def questao_2(database: str):\n",
    "    #carregamos as tabelas necessarias com as funcoes\n",
    "    filme = carrega_tabela(database, \"filme\") \n",
    "    sessao = carrega_tabela(database, \"sessao\")\n",
    "\n",
    "    #a partir da tabela filme, seleccionamos as colunas id, titulo_original e pais_origem\n",
    "    id_titulo_pais = filme[\n",
    "        [\n",
    "            \"id\",\n",
    "            \"titulo_original\",\n",
    "            \"pais_origem\"\n",
    "        ]\n",
    "    ]\n",
    "    \n",
    "    #a partir da tabela sessao, selecionamos as colunas filme_id e publico\n",
    "    filme_id_publico = sessao[\n",
    "        [\n",
    "            \"filme_id\",\n",
    "            \"publico\"\n",
    "        ]\n",
    "    ]\n",
    "\n",
    "    #criamos um diccionarios\n",
    "    bilheteria_de_cada_filme_por_id = defaultdict(int)    #chave: id de cada filme, valor: total de bilheteria \n",
    "    id_de_cada_filme_por_pais = defaultdict(list)         #chave: pais, valor: lista com os id's de cada filme desse pais\n",
    "    nome_de_cada_filme_por_id = defaultdict(str)          #chave: id de cada filme, valor: nome de cada filme\n",
    "    filme_de_maior_bilheteria_por_pais = defaultdict(str) #chave: pais, valor: filme com maior bilheteria desse pais\n",
    "\n",
    "    #colocamos cada pais com seus filmes\n",
    "    #colocamos cada filme_id com seu filme\n",
    "    for index in id_titulo_pais.itertuples(index= False):\n",
    "        filme_id = index.id\n",
    "        titulo = index.titulo_original\n",
    "        pais = index.pais_origem\n",
    "        id_de_cada_filme_por_pais[pais].append(filme_id)\n",
    "        nome_de_cada_filme_por_id[filme_id] = titulo\n",
    "    \n",
    "    #colocamos cada filme_id com seu publico total\n",
    "    for index in filme_id_publico.itertuples(index=False):\n",
    "        filme_id = index.filme_id\n",
    "        publico = index.publico\n",
    "        bilheteria_de_cada_filme_por_id[filme_id] += publico\n",
    "\n",
    "    #colocamos cada pais com seu filme de maior bilheteria\n",
    "    for cada_pais in id_de_cada_filme_por_pais.keys():\n",
    "        bilheteria = 0\n",
    "        filme = \"\"\n",
    "        \n",
    "        for cada_filme_id in id_de_cada_filme_por_pais[cada_pais]:\n",
    "            if bilheteria_de_cada_filme_por_id[cada_filme_id] > bilheteria:\n",
    "                bilheteria = bilheteria_de_cada_filme_por_id[cada_filme_id]\n",
    "                filme = nome_de_cada_filme_por_id[cada_filme_id]\n",
    "\n",
    "        filme_de_maior_bilheteria_por_pais[cada_pais] = filme\n",
    "\n",
    "    print(filme_de_maior_bilheteria_por_pais)\n",
    "    return dict(filme_de_maior_bilheteria_por_pais)\n",
    "\n",
    "questao_2(\"bilheteria.db\")"
   ]
  },
  {
   "cell_type": "markdown",
   "id": "e17e1095",
   "metadata": {},
   "source": [
    "# Questao 3\n",
    "3. Crie um dataframe com as 100 cidades com maior bilheteria em 2023,\n",
    "ordenadas de forma decrescente de bilheteria."
   ]
  },
  {
   "cell_type": "code",
   "execution_count": null,
   "id": "e2e4dfa0",
   "metadata": {},
   "outputs": [],
   "source": [
    "def questao_3(database: str):\n",
    "    #precisamos de um diccionario com todas as cidades como chaves e uma lista com as id's das salas dessa cidade\n",
    "    #depois um diccionario com a bilheteria total de cada sala\n",
    "    #com isso criamos outro diccionarios onde calculamos a bilheteria total de cada cidade:chave somando a bilheteria:valor de todas as salas pertencentes a essa cidade\n",
    "    #finalmente pegamos as 100 cidades com maior bilheteria em ordem decresente, pode ser em uma lista de tuplas \n",
    "    #convertemos essa lista de tuplas em um dataframe\n",
    "\n",
    "    \n",
    "return resultado"
   ]
  }
 ],
 "metadata": {
  "kernelspec": {
   "display_name": ".venv",
   "language": "python",
   "name": "python3"
  },
  "language_info": {
   "codemirror_mode": {
    "name": "ipython",
    "version": 3
   },
   "file_extension": ".py",
   "mimetype": "text/x-python",
   "name": "python",
   "nbconvert_exporter": "python",
   "pygments_lexer": "ipython3",
   "version": "3.13.3"
  }
 },
 "nbformat": 4,
 "nbformat_minor": 5
}
